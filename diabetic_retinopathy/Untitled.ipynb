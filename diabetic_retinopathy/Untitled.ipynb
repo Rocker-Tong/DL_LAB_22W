{
 "cells": [
  {
   "cell_type": "code",
   "execution_count": null,
   "id": "d431a5d5-1dd0-47f8-9cec-5c8a4a3297e7",
   "metadata": {},
   "outputs": [],
   "source": []
  },
  {
   "cell_type": "code",
   "execution_count": null,
   "id": "6276f47e-4b8d-45c6-9df4-daa85398e283",
   "metadata": {},
   "outputs": [],
   "source": []
  }
 ],
 "metadata": {
  "kernelspec": {
   "display_name": "Python 3 (ipykernel)",
   "language": "python",
   "name": "python3"
  },
  "language_info": {
   "codemirror_mode": {
    "name": "ipython",
    "version": 3
   },
   "file_extension": ".py",
   "mimetype": "text/x-python",
   "name": "python",
   "nbconvert_exporter": "python",
   "pygments_lexer": "ipython3",
   "version": "3.9.12"
  }
 },
 "nbformat": 4,
 "nbformat_minor": 5
}
